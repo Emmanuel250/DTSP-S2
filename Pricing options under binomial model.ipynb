{
 "cells": [
  {
   "cell_type": "markdown",
   "id": "674e4c92",
   "metadata": {},
   "source": [
    "# European Options"
   ]
  },
  {
   "cell_type": "markdown",
   "id": "69770365",
   "metadata": {},
   "source": [
    "European option should have the following parameters:\n",
    "    \n",
    "\n",
    "    Underlying price (per share): S; \n",
    "    Strike price of the option (per share): K;\n",
    "    Time to maturity (years): T;\n",
    "    Risk-free interest rate: r;\n",
    "    Steps: N;\n",
    "    \n",
    "        The factor by which the price rises = u ;\n",
    "        The factor by which the price falls= d ;\n",
    "        The probability of a price rise = pu, expressed as P*;\n",
    "        The probability of a price fall = pd ;\n",
    "        discount rate = disc ;\n",
    "        "
   ]
  },
  {
   "cell_type": "markdown",
   "id": "f3137655",
   "metadata": {},
   "source": [
    "Parameters of Group 25\n",
    "\n",
    "$u = 1.1 + \\frac{25}{100} = 1.35$\n",
    "\n",
    "$d = \\frac{1}{u} = 0.74$\n",
    "\n",
    "$p^* = \\frac{1 - d}{u - d} = 0.4255$"
   ]
  },
  {
   "cell_type": "code",
   "execution_count": 1,
   "id": "46ac8c00",
   "metadata": {},
   "outputs": [],
   "source": [
    "import math\n",
    "def Eu_Opt (S,K,T,r,N, Option_type):\n",
    "    \n",
    "    u=1.35;\n",
    "    d=1/u;\n",
    "    pu=(1-d)/(u-d);\n",
    "    pd=1-pu;\n",
    "    disc=math.exp(-r*T/N);\n",
    "\n",
    "    St = [0] * (N+1)\n",
    "    C = [0] * (N+1)\n",
    "    \n",
    "    St[0]=S*d**N;\n",
    "    \n",
    "    for j in range(1, N+1): \n",
    "        St[j] = St[j-1] * u/d;\n",
    "    \n",
    "    for j in range(1, N+1):\n",
    "        if Option_type == 'P':\n",
    "            C[j] = max(K-St[j],0);\n",
    "        elif Option_type == 'C':\n",
    "            C[j] = max(St[j]-K,0);\n",
    "    \n",
    "    for i in range(N, 0, -1):\n",
    "        for j in range(0, i):\n",
    "            C[j] = disc*(pu*C[j+1]+pd*C[j]);\n",
    "            \n",
    "    return C[0]"
   ]
  },
  {
   "cell_type": "markdown",
   "id": "6a7ad055",
   "metadata": {},
   "source": [
    "European Call option at N=3"
   ]
  },
  {
   "cell_type": "code",
   "execution_count": 2,
   "id": "4af19f9e",
   "metadata": {},
   "outputs": [
    {
     "data": {
      "text/plain": [
       "17.175240553634552"
      ]
     },
     "execution_count": 2,
     "metadata": {},
     "output_type": "execute_result"
    }
   ],
   "source": [
    "Eu_Opt(95,105,1,0,3,'C')"
   ]
  },
  {
   "cell_type": "markdown",
   "id": "ba853554",
   "metadata": {},
   "source": [
    "European Put option at N=2"
   ]
  },
  {
   "cell_type": "code",
   "execution_count": 3,
   "id": "ab88d7a2",
   "metadata": {},
   "outputs": [
    {
     "data": {
      "text/plain": [
       "4.8890900860117705"
      ]
     },
     "execution_count": 3,
     "metadata": {},
     "output_type": "execute_result"
    }
   ],
   "source": [
    "Eu_Opt(95,105,1,0,2,'P')"
   ]
  },
  {
   "cell_type": "code",
   "execution_count": null,
   "id": "85cde275",
   "metadata": {},
   "outputs": [],
   "source": []
  }
 ],
 "metadata": {
  "kernelspec": {
   "display_name": "Python 3",
   "language": "python",
   "name": "python3"
  },
  "language_info": {
   "codemirror_mode": {
    "name": "ipython",
    "version": 3
   },
   "file_extension": ".py",
   "mimetype": "text/x-python",
   "name": "python",
   "nbconvert_exporter": "python",
   "pygments_lexer": "ipython3",
   "version": "3.8.8"
  }
 },
 "nbformat": 4,
 "nbformat_minor": 5
}
